{
  "nbformat": 4,
  "nbformat_minor": 0,
  "metadata": {
    "colab": {
      "provenance": [],
      "authorship_tag": "ABX9TyOMA6Y/tNCP+0HrHzXYR6HP",
      "include_colab_link": true
    },
    "kernelspec": {
      "name": "python3",
      "display_name": "Python 3"
    },
    "language_info": {
      "name": "python"
    }
  },
  "cells": [
    {
      "cell_type": "markdown",
      "metadata": {
        "id": "view-in-github",
        "colab_type": "text"
      },
      "source": [
        "<a href=\"https://colab.research.google.com/github/Sankalpa0011/Simple-RAG-App-LangChain-And-OpenAI/blob/main/Simple_RAG_App_LangChain_And_OpenAI.ipynb\" target=\"_parent\"><img src=\"https://colab.research.google.com/assets/colab-badge.svg\" alt=\"Open In Colab\"/></a>"
      ]
    },
    {
      "cell_type": "markdown",
      "source": [
        "## **Install Necessary Packages**"
      ],
      "metadata": {
        "id": "RdVU8bUM2r0T"
      }
    },
    {
      "cell_type": "code",
      "execution_count": 1,
      "metadata": {
        "id": "2DxSkJt1bmEH",
        "colab": {
          "base_uri": "https://localhost:8080/"
        },
        "outputId": "a8c78b81-abc2-40cb-89c5-d275691fbd54"
      },
      "outputs": [
        {
          "output_type": "stream",
          "name": "stdout",
          "text": [
            "\u001b[2K     \u001b[90m━━━━━━━━━━━━━━━━━━━━━━━━━━━━━━━━━━━━━━━━\u001b[0m \u001b[32m50.4/50.4 kB\u001b[0m \u001b[31m1.1 MB/s\u001b[0m eta \u001b[36m0:00:00\u001b[0m\n",
            "\u001b[2K   \u001b[90m━━━━━━━━━━━━━━━━━━━━━━━━━━━━━━━━━━━━━━━━\u001b[0m \u001b[32m990.3/990.3 kB\u001b[0m \u001b[31m27.2 MB/s\u001b[0m eta \u001b[36m0:00:00\u001b[0m\n",
            "\u001b[2K   \u001b[90m━━━━━━━━━━━━━━━━━━━━━━━━━━━━━━━━━━━━━━━━\u001b[0m \u001b[32m374.2/374.2 kB\u001b[0m \u001b[31m14.4 MB/s\u001b[0m eta \u001b[36m0:00:00\u001b[0m\n",
            "\u001b[2K   \u001b[90m━━━━━━━━━━━━━━━━━━━━━━━━━━━━━━━━━━━━━━━━\u001b[0m \u001b[32m139.8/139.8 kB\u001b[0m \u001b[31m7.8 MB/s\u001b[0m eta \u001b[36m0:00:00\u001b[0m\n",
            "\u001b[2K   \u001b[90m━━━━━━━━━━━━━━━━━━━━━━━━━━━━━━━━━━━━━━━━\u001b[0m \u001b[32m141.1/141.1 kB\u001b[0m \u001b[31m8.4 MB/s\u001b[0m eta \u001b[36m0:00:00\u001b[0m\n",
            "\u001b[2K   \u001b[90m━━━━━━━━━━━━━━━━━━━━━━━━━━━━━━━━━━━━━━━━\u001b[0m \u001b[32m46.7/46.7 kB\u001b[0m \u001b[31m2.5 MB/s\u001b[0m eta \u001b[36m0:00:00\u001b[0m\n",
            "\u001b[2K   \u001b[90m━━━━━━━━━━━━━━━━━━━━━━━━━━━━━━━━━━━━━━━━\u001b[0m \u001b[32m337.0/337.0 kB\u001b[0m \u001b[31m21.1 MB/s\u001b[0m eta \u001b[36m0:00:00\u001b[0m\n",
            "\u001b[2K   \u001b[90m━━━━━━━━━━━━━━━━━━━━━━━━━━━━━━━━━━━━━━━━\u001b[0m \u001b[32m1.1/1.1 MB\u001b[0m \u001b[31m45.8 MB/s\u001b[0m eta \u001b[36m0:00:00\u001b[0m\n",
            "\u001b[2K   \u001b[90m━━━━━━━━━━━━━━━━━━━━━━━━━━━━━━━━━━━━━━━━\u001b[0m \u001b[32m75.6/75.6 kB\u001b[0m \u001b[31m4.6 MB/s\u001b[0m eta \u001b[36m0:00:00\u001b[0m\n",
            "\u001b[2K   \u001b[90m━━━━━━━━━━━━━━━━━━━━━━━━━━━━━━━━━━━━━━━━\u001b[0m \u001b[32m77.9/77.9 kB\u001b[0m \u001b[31m5.2 MB/s\u001b[0m eta \u001b[36m0:00:00\u001b[0m\n",
            "\u001b[2K   \u001b[90m━━━━━━━━━━━━━━━━━━━━━━━━━━━━━━━━━━━━━━━━\u001b[0m \u001b[32m58.3/58.3 kB\u001b[0m \u001b[31m3.2 MB/s\u001b[0m eta \u001b[36m0:00:00\u001b[0m\n",
            "\u001b[2K     \u001b[90m━━━━━━━━━━━━━━━━━━━━━━━━━━━━━━━━━━━━━━━━\u001b[0m \u001b[32m67.3/67.3 kB\u001b[0m \u001b[31m4.3 MB/s\u001b[0m eta \u001b[36m0:00:00\u001b[0m\n",
            "\u001b[?25h  Installing build dependencies ... \u001b[?25l\u001b[?25hdone\n",
            "  Getting requirements to build wheel ... \u001b[?25l\u001b[?25hdone\n",
            "  Preparing metadata (pyproject.toml) ... \u001b[?25l\u001b[?25hdone\n",
            "\u001b[2K   \u001b[90m━━━━━━━━━━━━━━━━━━━━━━━━━━━━━━━━━━━━━━━━\u001b[0m \u001b[32m584.3/584.3 kB\u001b[0m \u001b[31m27.6 MB/s\u001b[0m eta \u001b[36m0:00:00\u001b[0m\n",
            "\u001b[2K   \u001b[90m━━━━━━━━━━━━━━━━━━━━━━━━━━━━━━━━━━━━━━━━\u001b[0m \u001b[32m2.4/2.4 MB\u001b[0m \u001b[31m49.7 MB/s\u001b[0m eta \u001b[36m0:00:00\u001b[0m\n",
            "\u001b[2K   \u001b[90m━━━━━━━━━━━━━━━━━━━━━━━━━━━━━━━━━━━━━━━━\u001b[0m \u001b[32m92.2/92.2 kB\u001b[0m \u001b[31m5.3 MB/s\u001b[0m eta \u001b[36m0:00:00\u001b[0m\n",
            "\u001b[2K   \u001b[90m━━━━━━━━━━━━━━━━━━━━━━━━━━━━━━━━━━━━━━━━\u001b[0m \u001b[32m273.8/273.8 kB\u001b[0m \u001b[31m12.9 MB/s\u001b[0m eta \u001b[36m0:00:00\u001b[0m\n",
            "\u001b[2K   \u001b[90m━━━━━━━━━━━━━━━━━━━━━━━━━━━━━━━━━━━━━━━━\u001b[0m \u001b[32m1.7/1.7 MB\u001b[0m \u001b[31m44.4 MB/s\u001b[0m eta \u001b[36m0:00:00\u001b[0m\n",
            "\u001b[2K   \u001b[90m━━━━━━━━━━━━━━━━━━━━━━━━━━━━━━━━━━━━━━━━\u001b[0m \u001b[32m67.6/67.6 kB\u001b[0m \u001b[31m4.6 MB/s\u001b[0m eta \u001b[36m0:00:00\u001b[0m\n",
            "\u001b[2K   \u001b[90m━━━━━━━━━━━━━━━━━━━━━━━━━━━━━━━━━━━━━━━━\u001b[0m \u001b[32m6.8/6.8 MB\u001b[0m \u001b[31m57.6 MB/s\u001b[0m eta \u001b[36m0:00:00\u001b[0m\n",
            "\u001b[2K   \u001b[90m━━━━━━━━━━━━━━━━━━━━━━━━━━━━━━━━━━━━━━━━\u001b[0m \u001b[32m61.5/61.5 kB\u001b[0m \u001b[31m4.0 MB/s\u001b[0m eta \u001b[36m0:00:00\u001b[0m\n",
            "\u001b[2K   \u001b[90m━━━━━━━━━━━━━━━━━━━━━━━━━━━━━━━━━━━━━━━━\u001b[0m \u001b[32m52.5/52.5 kB\u001b[0m \u001b[31m2.5 MB/s\u001b[0m eta \u001b[36m0:00:00\u001b[0m\n",
            "\u001b[2K   \u001b[90m━━━━━━━━━━━━━━━━━━━━━━━━━━━━━━━━━━━━━━━━\u001b[0m \u001b[32m138.0/138.0 kB\u001b[0m \u001b[31m8.1 MB/s\u001b[0m eta \u001b[36m0:00:00\u001b[0m\n",
            "\u001b[2K   \u001b[90m━━━━━━━━━━━━━━━━━━━━━━━━━━━━━━━━━━━━━━━━\u001b[0m \u001b[32m109.5/109.5 kB\u001b[0m \u001b[31m7.4 MB/s\u001b[0m eta \u001b[36m0:00:00\u001b[0m\n",
            "\u001b[2K   \u001b[90m━━━━━━━━━━━━━━━━━━━━━━━━━━━━━━━━━━━━━━━━\u001b[0m \u001b[32m41.3/41.3 kB\u001b[0m \u001b[31m2.4 MB/s\u001b[0m eta \u001b[36m0:00:00\u001b[0m\n",
            "\u001b[2K   \u001b[90m━━━━━━━━━━━━━━━━━━━━━━━━━━━━━━━━━━━━━━━━\u001b[0m \u001b[32m71.9/71.9 kB\u001b[0m \u001b[31m5.0 MB/s\u001b[0m eta \u001b[36m0:00:00\u001b[0m\n",
            "\u001b[2K   \u001b[90m━━━━━━━━━━━━━━━━━━━━━━━━━━━━━━━━━━━━━━━━\u001b[0m \u001b[32m62.8/62.8 kB\u001b[0m \u001b[31m4.2 MB/s\u001b[0m eta \u001b[36m0:00:00\u001b[0m\n",
            "\u001b[2K   \u001b[90m━━━━━━━━━━━━━━━━━━━━━━━━━━━━━━━━━━━━━━━━\u001b[0m \u001b[32m307.7/307.7 kB\u001b[0m \u001b[31m16.5 MB/s\u001b[0m eta \u001b[36m0:00:00\u001b[0m\n",
            "\u001b[2K   \u001b[90m━━━━━━━━━━━━━━━━━━━━━━━━━━━━━━━━━━━━━━━━\u001b[0m \u001b[32m341.4/341.4 kB\u001b[0m \u001b[31m17.2 MB/s\u001b[0m eta \u001b[36m0:00:00\u001b[0m\n",
            "\u001b[2K   \u001b[90m━━━━━━━━━━━━━━━━━━━━━━━━━━━━━━━━━━━━━━━━\u001b[0m \u001b[32m3.4/3.4 MB\u001b[0m \u001b[31m45.6 MB/s\u001b[0m eta \u001b[36m0:00:00\u001b[0m\n",
            "\u001b[2K   \u001b[90m━━━━━━━━━━━━━━━━━━━━━━━━━━━━━━━━━━━━━━━━\u001b[0m \u001b[32m1.2/1.2 MB\u001b[0m \u001b[31m41.4 MB/s\u001b[0m eta \u001b[36m0:00:00\u001b[0m\n",
            "\u001b[2K   \u001b[90m━━━━━━━━━━━━━━━━━━━━━━━━━━━━━━━━━━━━━━━━\u001b[0m \u001b[32m130.2/130.2 kB\u001b[0m \u001b[31m8.3 MB/s\u001b[0m eta \u001b[36m0:00:00\u001b[0m\n",
            "\u001b[2K   \u001b[90m━━━━━━━━━━━━━━━━━━━━━━━━━━━━━━━━━━━━━━━━\u001b[0m \u001b[32m46.0/46.0 kB\u001b[0m \u001b[31m2.5 MB/s\u001b[0m eta \u001b[36m0:00:00\u001b[0m\n",
            "\u001b[2K   \u001b[90m━━━━━━━━━━━━━━━━━━━━━━━━━━━━━━━━━━━━━━━━\u001b[0m \u001b[32m86.8/86.8 kB\u001b[0m \u001b[31m5.0 MB/s\u001b[0m eta \u001b[36m0:00:00\u001b[0m\n",
            "\u001b[?25h  Building wheel for pypika (pyproject.toml) ... \u001b[?25l\u001b[?25hdone\n"
          ]
        }
      ],
      "source": [
        "!pip install langchain -qU\n",
        "!pip install langchain-openai -qU    # Embedding Model\n",
        "!pip install langchain-chroma -qU    # Database"
      ]
    },
    {
      "cell_type": "markdown",
      "source": [
        "## **Import Necessary Libraries**"
      ],
      "metadata": {
        "id": "d7B42w953C8M"
      }
    },
    {
      "cell_type": "code",
      "source": [
        "import os\n",
        "from google.colab import userdata"
      ],
      "metadata": {
        "id": "zDAx1z_Z3F0A"
      },
      "execution_count": 2,
      "outputs": []
    },
    {
      "cell_type": "markdown",
      "source": [
        "## **Initialize OpenAI LLM**"
      ],
      "metadata": {
        "id": "FS5n-ZZS3Mdi"
      }
    },
    {
      "cell_type": "code",
      "source": [
        "from langchain_openai import ChatOpenAI\n",
        "\n",
        "# Set OpenAI API Key\n",
        "os.environ[\"OPENAI_API_KEY\"] = userdata.get(\"OPENAI_API_KEY\")\n",
        "\n",
        "# Initialize the ChatOpenAI Model\n",
        "llm = ChatOpenAI(\n",
        "    model=\"gpt-3.5-turbo\",\n",
        "    temperature=0\n",
        ")"
      ],
      "metadata": {
        "id": "8Trj0ugL3Lkl"
      },
      "execution_count": 3,
      "outputs": []
    },
    {
      "cell_type": "markdown",
      "source": [
        "## **Initialize Embedding Model**"
      ],
      "metadata": {
        "id": "5yRzMaVw3wiN"
      }
    },
    {
      "cell_type": "code",
      "source": [
        "from langchain_openai import OpenAIEmbeddings\n",
        "\n",
        "# Initialize the OpenAIEmbeddings Model\n",
        "embedding_model = OpenAIEmbeddings(\n",
        "    model=\"text-embedding-3-small\"\n",
        ")"
      ],
      "metadata": {
        "id": "M8UOt63o32S4"
      },
      "execution_count": 4,
      "outputs": []
    },
    {
      "cell_type": "markdown",
      "source": [
        "## **Create Embeded Documents**"
      ],
      "metadata": {
        "id": "HlslvdoW4H1o"
      }
    },
    {
      "cell_type": "code",
      "source": [
        "from langchain_core.documents import Document\n",
        "\n",
        "# Define a list of documents with content and metadata\n",
        "documents = [\n",
        "    Document(\n",
        "        page_content=\"\"\"The T20 World Cup 2024 is in full swing, bringing excitement and drama to cricket fans worldwide. India's team, captained by Rohit Sharma, is preparing for a crucial match against Ireland, with standout player Jasprit Bumrah expected to play a pivotal role in their campaign. The tournament has already seen controversy, particularly concerning the pitch conditions at Nassau County International Cricket Stadium in New York, which came under fire after a low-scoring game between Sri Lanka and South Africa.\"\"\",\n",
        "        metadata={\"source\": \"cricket news\"},\n",
        "    ),\n",
        "    Document(\n",
        "        page_content=\"\"\"The world of football is buzzing with excitement as major tournaments and league matches continue to captivate fans globally. In the UEFA Champions League, the semi-final matchups have been set, with defending champions Real Madrid set to face Manchester City, while Bayern Munich will take on Paris Saint-Germain. Both ties promise thrilling encounters, featuring some of the best talents in world football.\"\"\",\n",
        "        metadata={\"source\": \"football news\"},\n",
        "    ),\n",
        "    Document(\n",
        "        page_content=\"\"\"As election season heats up, the latest developments reveal a highly competitive atmosphere across several key races. The presidential election has seen intense campaigning from all major candidates, with recent polls indicating a tight race. Incumbent President Jane Doe is seeking re-election on a platform of economic stability and healthcare reform, while her main rival, Senator John Smith, focuses on education and climate change initiatives.\"\"\",\n",
        "        metadata={\"source\": \"election news\"},\n",
        "    ),\n",
        "    Document(\n",
        "        page_content=\"\"\"The AI revolution continues to transform industries and reshape the global economy. Significant advancements in artificial intelligence have led to breakthroughs in healthcare, with AI-driven diagnostics improving patient outcomes and reducing costs. Autonomous systems are becoming increasingly prevalent in logistics and transportation, enhancing efficiency and safety.\"\"\",\n",
        "        metadata={\"source\": \"ai revolution news\"}\n",
        "    )\n",
        "]"
      ],
      "metadata": {
        "id": "EN7Ec4924Fhk"
      },
      "execution_count": 5,
      "outputs": []
    },
    {
      "cell_type": "markdown",
      "source": [
        "## **Create A Vector Store**"
      ],
      "metadata": {
        "id": "YtSC1uaMAr57"
      }
    },
    {
      "cell_type": "code",
      "source": [
        "# Create a vector store using the documents and embedding model\n",
        "from langchain_chroma import Chroma\n",
        "\n",
        "vector_store = Chroma.from_documents(\n",
        "    documents,\n",
        "    embedding=embedding_model\n",
        ")"
      ],
      "metadata": {
        "id": "rTwpXj40AsXt"
      },
      "execution_count": 6,
      "outputs": []
    },
    {
      "cell_type": "markdown",
      "source": [
        "## **Perform Similarity Search**"
      ],
      "metadata": {
        "id": "zo-DIGzGBnF4"
      }
    },
    {
      "cell_type": "code",
      "source": [
        "results = vector_store.similarity_search(\"Test match\")\n",
        "\n",
        "for result in results:\n",
        "  print(\"-----------------\")\n",
        "  print(result.page_content)\n",
        "  print(result.metadata)"
      ],
      "metadata": {
        "colab": {
          "base_uri": "https://localhost:8080/"
        },
        "id": "_c6xJyMOAtcT",
        "outputId": "3db245a5-5e7a-4b65-f23d-145bf2144259"
      },
      "execution_count": 7,
      "outputs": [
        {
          "output_type": "stream",
          "name": "stdout",
          "text": [
            "-----------------\n",
            "The T20 World Cup 2024 is in full swing, bringing excitement and drama to cricket fans worldwide. India's team, captained by Rohit Sharma, is preparing for a crucial match against Ireland, with standout player Jasprit Bumrah expected to play a pivotal role in their campaign. The tournament has already seen controversy, particularly concerning the pitch conditions at Nassau County International Cricket Stadium in New York, which came under fire after a low-scoring game between Sri Lanka and South Africa.\n",
            "{'source': 'cricket news'}\n",
            "-----------------\n",
            "The world of football is buzzing with excitement as major tournaments and league matches continue to captivate fans globally. In the UEFA Champions League, the semi-final matchups have been set, with defending champions Real Madrid set to face Manchester City, while Bayern Munich will take on Paris Saint-Germain. Both ties promise thrilling encounters, featuring some of the best talents in world football.\n",
            "{'source': 'football news'}\n",
            "-----------------\n",
            "As election season heats up, the latest developments reveal a highly competitive atmosphere across several key races. The presidential election has seen intense campaigning from all major candidates, with recent polls indicating a tight race. Incumbent President Jane Doe is seeking re-election on a platform of economic stability and healthcare reform, while her main rival, Senator John Smith, focuses on education and climate change initiatives.\n",
            "{'source': 'election news'}\n",
            "-----------------\n",
            "The AI revolution continues to transform industries and reshape the global economy. Significant advancements in artificial intelligence have led to breakthroughs in healthcare, with AI-driven diagnostics improving patient outcomes and reducing costs. Autonomous systems are becoming increasingly prevalent in logistics and transportation, enhancing efficiency and safety.\n",
            "{'source': 'ai revolution news'}\n"
          ]
        }
      ]
    },
    {
      "cell_type": "code",
      "source": [
        "results = vector_store.similarity_search(\"Machine learning\")\n",
        "\n",
        "for result in results:\n",
        "  print(\"-----------------\")\n",
        "  print(result.page_content)\n",
        "  print(result.metadata)"
      ],
      "metadata": {
        "id": "GB3_jysXCH_g",
        "colab": {
          "base_uri": "https://localhost:8080/"
        },
        "outputId": "5953df95-9172-40ed-ce6a-1c1a33f92fd8"
      },
      "execution_count": 8,
      "outputs": [
        {
          "output_type": "stream",
          "name": "stdout",
          "text": [
            "-----------------\n",
            "The AI revolution continues to transform industries and reshape the global economy. Significant advancements in artificial intelligence have led to breakthroughs in healthcare, with AI-driven diagnostics improving patient outcomes and reducing costs. Autonomous systems are becoming increasingly prevalent in logistics and transportation, enhancing efficiency and safety.\n",
            "{'source': 'ai revolution news'}\n",
            "-----------------\n",
            "The world of football is buzzing with excitement as major tournaments and league matches continue to captivate fans globally. In the UEFA Champions League, the semi-final matchups have been set, with defending champions Real Madrid set to face Manchester City, while Bayern Munich will take on Paris Saint-Germain. Both ties promise thrilling encounters, featuring some of the best talents in world football.\n",
            "{'source': 'football news'}\n",
            "-----------------\n",
            "As election season heats up, the latest developments reveal a highly competitive atmosphere across several key races. The presidential election has seen intense campaigning from all major candidates, with recent polls indicating a tight race. Incumbent President Jane Doe is seeking re-election on a platform of economic stability and healthcare reform, while her main rival, Senator John Smith, focuses on education and climate change initiatives.\n",
            "{'source': 'election news'}\n",
            "-----------------\n",
            "The T20 World Cup 2024 is in full swing, bringing excitement and drama to cricket fans worldwide. India's team, captained by Rohit Sharma, is preparing for a crucial match against Ireland, with standout player Jasprit Bumrah expected to play a pivotal role in their campaign. The tournament has already seen controversy, particularly concerning the pitch conditions at Nassau County International Cricket Stadium in New York, which came under fire after a low-scoring game between Sri Lanka and South Africa.\n",
            "{'source': 'cricket news'}\n"
          ]
        }
      ]
    },
    {
      "cell_type": "markdown",
      "source": [
        "## **Embedded Query And Perform Similarity Search By Vector**"
      ],
      "metadata": {
        "id": "IzhaSvulCYJD"
      }
    },
    {
      "cell_type": "code",
      "source": [
        "# Embed a query using the embedding model\n",
        "query_embedding = embedding_model.embed_query(\"Machine learning\")\n",
        "\n",
        "# Check first ten values\n",
        "query_embedding[:10]"
      ],
      "metadata": {
        "colab": {
          "base_uri": "https://localhost:8080/"
        },
        "id": "Nn2vEaK5ClrY",
        "outputId": "9db66497-0f5d-4e5a-ef29-ab6475c9699a"
      },
      "execution_count": 9,
      "outputs": [
        {
          "output_type": "execute_result",
          "data": {
            "text/plain": [
              "[-0.009323582984507084,\n",
              " -0.002345611108466983,\n",
              " -0.0008498057723045349,\n",
              " -0.02188452146947384,\n",
              " 0.04223865643143654,\n",
              " 0.01093637477606535,\n",
              " 0.007651930674910545,\n",
              " 0.03967231884598732,\n",
              " -0.01960071362555027,\n",
              " 0.022508447989821434]"
            ]
          },
          "metadata": {},
          "execution_count": 9
        }
      ]
    },
    {
      "cell_type": "code",
      "source": [
        "# Print the length of the query embedding\n",
        "len(query_embedding)  # this length same for all the queries"
      ],
      "metadata": {
        "colab": {
          "base_uri": "https://localhost:8080/"
        },
        "id": "gIhHP9nsDAPC",
        "outputId": "960cc0c0-3b11-4048-cb67-997aa65af314"
      },
      "execution_count": 10,
      "outputs": [
        {
          "output_type": "execute_result",
          "data": {
            "text/plain": [
              "1536"
            ]
          },
          "metadata": {},
          "execution_count": 10
        }
      ]
    },
    {
      "cell_type": "code",
      "source": [
        "results = vector_store.similarity_search_by_vector(query_embedding, k=3)\n",
        "\n",
        "for result in results:\n",
        "  print(\"-----------------\")\n",
        "  print(result.page_content)\n",
        "  print(result.metadata)"
      ],
      "metadata": {
        "colab": {
          "base_uri": "https://localhost:8080/"
        },
        "id": "8fF7o-l0DKYG",
        "outputId": "8a774211-bb1c-451b-a659-53d33b17dfa9"
      },
      "execution_count": 11,
      "outputs": [
        {
          "output_type": "stream",
          "name": "stdout",
          "text": [
            "-----------------\n",
            "The AI revolution continues to transform industries and reshape the global economy. Significant advancements in artificial intelligence have led to breakthroughs in healthcare, with AI-driven diagnostics improving patient outcomes and reducing costs. Autonomous systems are becoming increasingly prevalent in logistics and transportation, enhancing efficiency and safety.\n",
            "{'source': 'ai revolution news'}\n",
            "-----------------\n",
            "The world of football is buzzing with excitement as major tournaments and league matches continue to captivate fans globally. In the UEFA Champions League, the semi-final matchups have been set, with defending champions Real Madrid set to face Manchester City, while Bayern Munich will take on Paris Saint-Germain. Both ties promise thrilling encounters, featuring some of the best talents in world football.\n",
            "{'source': 'football news'}\n",
            "-----------------\n",
            "As election season heats up, the latest developments reveal a highly competitive atmosphere across several key races. The presidential election has seen intense campaigning from all major candidates, with recent polls indicating a tight race. Incumbent President Jane Doe is seeking re-election on a platform of economic stability and healthcare reform, while her main rival, Senator John Smith, focuses on education and climate change initiatives.\n",
            "{'source': 'election news'}\n"
          ]
        }
      ]
    },
    {
      "cell_type": "markdown",
      "source": [
        "## **Create Retriever**"
      ],
      "metadata": {
        "id": "GEfxpMDRDlYC"
      }
    },
    {
      "cell_type": "code",
      "source": [
        "# create a retriever from the vector\n",
        "retriever = vector_store.as_retriever(\n",
        "    search_type=\"similarity\",\n",
        "    search_kwargs={\"k\": 1}\n",
        ")\n",
        "\n",
        "# Perform batch retrieval using the retriever\n",
        "# batch_results = retriever.get_batches(\"machine learning\", \"test match\")\n",
        "result1 = retriever.get_relevant_documents(\"machine learning\")\n",
        "result2 = retriever.get_relevant_documents(\"test match\")\n",
        "\n",
        "# Print results\n",
        "print(\"Results for 'machine learning':\")\n",
        "for doc in result1:\n",
        "    print(\"-----------------\")\n",
        "    print(doc.page_content)\n",
        "    print(doc.metadata)\n",
        "\n",
        "print(\"\\nResults for 'test match':\")\n",
        "for doc in result2:\n",
        "    print(\"-----------------\")\n",
        "    print(doc.page_content)\n",
        "    print(doc.metadata)"
      ],
      "metadata": {
        "id": "hQIG-MS9DkgV",
        "colab": {
          "base_uri": "https://localhost:8080/"
        },
        "outputId": "2d5a5918-e81e-4d21-ee4b-ba1a1e3b4c92"
      },
      "execution_count": 16,
      "outputs": [
        {
          "output_type": "stream",
          "name": "stderr",
          "text": [
            "/usr/local/lib/python3.10/dist-packages/langchain_core/_api/deprecation.py:139: LangChainDeprecationWarning: The method `BaseRetriever.get_relevant_documents` was deprecated in langchain-core 0.1.46 and will be removed in 0.3.0. Use invoke instead.\n",
            "  warn_deprecated(\n"
          ]
        },
        {
          "output_type": "stream",
          "name": "stdout",
          "text": [
            "Results for 'machine learning':\n",
            "-----------------\n",
            "The AI revolution continues to transform industries and reshape the global economy. Significant advancements in artificial intelligence have led to breakthroughs in healthcare, with AI-driven diagnostics improving patient outcomes and reducing costs. Autonomous systems are becoming increasingly prevalent in logistics and transportation, enhancing efficiency and safety.\n",
            "{'source': 'ai revolution news'}\n",
            "\n",
            "Results for 'test match':\n",
            "-----------------\n",
            "The T20 World Cup 2024 is in full swing, bringing excitement and drama to cricket fans worldwide. India's team, captained by Rohit Sharma, is preparing for a crucial match against Ireland, with standout player Jasprit Bumrah expected to play a pivotal role in their campaign. The tournament has already seen controversy, particularly concerning the pitch conditions at Nassau County International Cricket Stadium in New York, which came under fire after a low-scoring game between Sri Lanka and South Africa.\n",
            "{'source': 'cricket news'}\n"
          ]
        }
      ]
    },
    {
      "cell_type": "markdown",
      "source": [
        "## **Create Prompt Template**"
      ],
      "metadata": {
        "id": "LmzN9H_rKH4n"
      }
    },
    {
      "cell_type": "code",
      "source": [
        "from langchain_core.prompts import ChatPromptTemplate\n",
        "from langchain_core.runnables import RunnablePassthrough\n",
        "\n",
        "# Define the prompt template\n",
        "message = \"\"\"\n",
        "Answer this question using the provided context only.\n",
        "\n",
        "{question}\n",
        "\n",
        "Context:\n",
        "{context}\n",
        "\"\"\"\n",
        "\n",
        "# Create a chat prompt template from the message\n",
        "prompt = ChatPromptTemplate.from_messages([\n",
        "    (\"human\", message)\n",
        "])"
      ],
      "metadata": {
        "id": "Wai0MJg9KLDV"
      },
      "execution_count": 18,
      "outputs": []
    },
    {
      "cell_type": "markdown",
      "source": [
        "## **Chain Retriever And Prompt Template With LLM**"
      ],
      "metadata": {
        "id": "JydPJvq4L9wi"
      }
    },
    {
      "cell_type": "code",
      "source": [
        "chain = {\"context\": retriever, \"question\": RunnablePassthrough()} | prompt | llm"
      ],
      "metadata": {
        "id": "UhocfxoBMHGL"
      },
      "execution_count": 19,
      "outputs": []
    },
    {
      "cell_type": "code",
      "source": [
        "response = chain.invoke(\"current state of 2024 t20 world cup\")  # this question for our own dataset questions in RAG architecture\n",
        "print(response.content)"
      ],
      "metadata": {
        "id": "UZcdRFEiMiAs",
        "colab": {
          "base_uri": "https://localhost:8080/"
        },
        "outputId": "01a8e4ce-ba0d-4c07-9baa-5109914a2f9c"
      },
      "execution_count": 20,
      "outputs": [
        {
          "output_type": "stream",
          "name": "stdout",
          "text": [
            "The T20 World Cup 2024 is currently in full swing, with India's team led by Rohit Sharma gearing up for a crucial match against Ireland. Jasprit Bumrah is expected to play a key role in their campaign. The tournament has already faced controversy over pitch conditions at Nassau County International Cricket Stadium in New York.\n"
          ]
        }
      ]
    },
    {
      "cell_type": "code",
      "source": [
        "response = chain.invoke(\"How are you\")  # Normal conversation messages\n",
        "print(response.content)"
      ],
      "metadata": {
        "id": "GamPFCCgM9LG",
        "colab": {
          "base_uri": "https://localhost:8080/"
        },
        "outputId": "60384482-bdcc-46f6-e66e-5ba64dfd6ee3"
      },
      "execution_count": 21,
      "outputs": [
        {
          "output_type": "stream",
          "name": "stdout",
          "text": [
            "I am doing well, thank you.\n"
          ]
        }
      ]
    },
    {
      "cell_type": "code",
      "source": [
        "response = chain.invoke(\"Football updates?\")\n",
        "print(response.content)"
      ],
      "metadata": {
        "colab": {
          "base_uri": "https://localhost:8080/"
        },
        "id": "46fEhYjdd7F9",
        "outputId": "cfd6c033-f6e9-4482-9ead-fc68698a4f2b"
      },
      "execution_count": 22,
      "outputs": [
        {
          "output_type": "stream",
          "name": "stdout",
          "text": [
            "The semi-final matchups in the UEFA Champions League have been set, with Real Madrid facing Manchester City and Bayern Munich taking on Paris Saint-Germain.\n"
          ]
        }
      ]
    }
  ]
}